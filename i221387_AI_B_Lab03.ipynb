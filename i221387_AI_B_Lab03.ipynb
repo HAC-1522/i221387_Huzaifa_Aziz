{
  "nbformat": 4,
  "nbformat_minor": 0,
  "metadata": {
    "colab": {
      "provenance": []
    },
    "kernelspec": {
      "name": "python3",
      "display_name": "Python 3"
    },
    "language_info": {
      "name": "python"
    }
  },
  "cells": [
    {
      "cell_type": "markdown",
      "source": [
        "# Lab Task 01"
      ],
      "metadata": {
        "id": "DR3RvooloecS"
      }
    },
    {
      "cell_type": "markdown",
      "source": [
        "Reshape a 1D NumPy array into a 2D array with dimensions (3, 4).\n",
        "\n",
        "Concatenate two NumPy arrays horizontally and vertically."
      ],
      "metadata": {
        "id": "Oi-yFvItoWzc"
      }
    },
    {
      "cell_type": "code",
      "source": [
        "#code here\n",
        "import numpy as np\n",
        "\n",
        "array_1d = np.arange(12)\n",
        "array_2d = array_1d.reshape(3, 4)\n",
        "print(\"2D array:\")\n",
        "print(array_2d)\n",
        "\n",
        "array_1 = np.array([[1, 2, 3],\n",
        "                    [4, 5, 6]])\n",
        "array_2 = np.array([[7, 8, 9],\n",
        "                    [10, 11, 12]])\n",
        "\n",
        "horizontal = np.concatenate((array_1, array_2), axis=1)\n",
        "print(\"Horizontal array:\")\n",
        "print(horizontal)\n",
        "\n",
        "vertical = np.concatenate((array_1, array_2), axis=0)\n",
        "print(\"Vertical array:\")\n",
        "print(vertical)"
      ],
      "metadata": {
        "id": "c379PMYOobDK",
        "colab": {
          "base_uri": "https://localhost:8080/"
        },
        "outputId": "2e01b3ed-41bc-4ecc-d858-282bef58cac1"
      },
      "execution_count": null,
      "outputs": [
        {
          "output_type": "stream",
          "name": "stdout",
          "text": [
            "2D array:\n",
            "[[ 0  1  2  3]\n",
            " [ 4  5  6  7]\n",
            " [ 8  9 10 11]]\n",
            "Horizontal array:\n",
            "[[ 1  2  3  7  8  9]\n",
            " [ 4  5  6 10 11 12]]\n",
            "Vertical array:\n",
            "[[ 1  2  3]\n",
            " [ 4  5  6]\n",
            " [ 7  8  9]\n",
            " [10 11 12]]\n"
          ]
        }
      ]
    },
    {
      "cell_type": "markdown",
      "source": [
        "# Lab Task 02"
      ],
      "metadata": {
        "id": "Dv9DtQ3jp6mq"
      }
    },
    {
      "cell_type": "markdown",
      "source": [
        "\n",
        "## Email Classification\n",
        "Develope a tool which will classify an email.\n",
        "\n",
        "### Tasks:\n",
        "* Create a function classify_emails that takes a list of emails as an argument.\n",
        "* Inside the function, categorize emails into \"Important,\" \"Promotions,\" and \"Spam\" based on keywords and content analysis.\n",
        "* Loop through the emails and identify keywords to determine their category.\n",
        "* If an email contains keywords indicating importance, assign it as \"Important.\"\n",
        "* If an email contains keywords related to promotions or deals, assign it as \"Promotions.\"\n",
        "* If an email is suspected to be spam based on certain keywords or patterns, assign it as \"Spam.\"\n",
        "* Return three lists of emails for each category.\n",
        "* Print the lists."
      ],
      "metadata": {
        "id": "2i6-zm_1ZAdn"
      }
    },
    {
      "cell_type": "code",
      "source": [
        "#code here\n",
        "def classify_email(emails):\n",
        "    important = [\"urgent\", \"important\", \"action required\"]\n",
        "    promotions = [\"sale\", \"deal\", \"discount\", \"offer\"]\n",
        "    spam = [\"lottery\", \"prize\", \"won\"]\n",
        "\n",
        "    important_emails = []\n",
        "    promotions_emails = []\n",
        "    spam_emails = []\n",
        "\n",
        "    for email in emails:\n",
        "        email_lower = email.lower()\n",
        "        if any(keyword in email_lower for keyword in important):\n",
        "            important_emails.append(email)\n",
        "        elif any(keyword in email_lower for keyword in promotions):\n",
        "            promotions_emails.append(email)\n",
        "        elif any(keyword in email_lower for keyword in spam):\n",
        "            spam_emails.append(email)\n",
        "\n",
        "    return important_emails, promotions_emails, spam_emails\n",
        "\n",
        "\n",
        "emails = [\n",
        "    \"URGENT: Action Required - Verify Your Account\",\n",
        "    \"Exclusive Sale - 70% Off!\",\n",
        "    \"You've won a Lottery Prize!\",\n",
        "    \"Important Update: Your Subscription Renewal\",\n",
        "    \"Limited Time Deal - Get 10-15% Off Today\",\n",
        "    \"Important: Meeting Reminder for Tomorrow\",\n",
        "    \"Last Chance to Save Big - End of Season Sale!\",\n",
        "    \"You've Won a Free Vacation!\",\n",
        "    \"Action Required: Update Your Payment Method\",\n",
        "    \"Exclusive Offer: Buy One Get One Free!\",\n",
        "    \"Congratulations! You've Won a Cash Prize!\"\n",
        "]\n",
        "\n",
        "print(\"List of emails:\\n\",emails)\n",
        "important, promotions, spam = classify_email(emails)\n",
        "\n",
        "print(\"Important Emails:\")\n",
        "for email in important:\n",
        "    print(\".\", email)\n",
        "\n",
        "print(\"Promotion Emails:\")\n",
        "for email in promotions:\n",
        "    print(\".\", email)\n",
        "\n",
        "print(\"Spam Emails:\")\n",
        "for email in spam:\n",
        "    print(\".\", email)"
      ],
      "metadata": {
        "id": "SnCGPkq-o84Z",
        "colab": {
          "base_uri": "https://localhost:8080/"
        },
        "outputId": "00aa4c30-c52b-4db7-d768-25c65fdfd3ff"
      },
      "execution_count": null,
      "outputs": [
        {
          "output_type": "stream",
          "name": "stdout",
          "text": [
            "\n",
            "List of emails:\n",
            " ['URGENT: Action Required - Verify Your Account', 'Exclusive Sale - 70% Off!', \"You've won a Lottery Prize!\", 'Important Update: Your Subscription Renewal', 'Limited Time Deal - Get 10-15% Off Today', 'Important: Meeting Reminder for Tomorrow', 'Last Chance to Save Big - End of Season Sale!', \"You've Won a Free Vacation!\", 'Action Required: Update Your Payment Method', 'Exclusive Offer: Buy One Get One Free!', \"Congratulations! You've Won a Cash Prize!\"]\n",
            "\n",
            "Important Emails:\n",
            ". URGENT: Action Required - Verify Your Account\n",
            ". Important Update: Your Subscription Renewal\n",
            ". Important: Meeting Reminder for Tomorrow\n",
            ". Action Required: Update Your Payment Method\n",
            "\n",
            "Promotion Emails:\n",
            ". Exclusive Sale - 70% Off!\n",
            ". Limited Time Deal - Get 10-15% Off Today\n",
            ". Last Chance to Save Big - End of Season Sale!\n",
            ". Exclusive Offer: Buy One Get One Free!\n",
            "\n",
            "Spam Emails:\n",
            ". You've won a Lottery Prize!\n",
            ". You've Won a Free Vacation!\n",
            ". Congratulations! You've Won a Cash Prize!\n"
          ]
        }
      ]
    },
    {
      "cell_type": "markdown",
      "source": [
        "# Lab Task 03"
      ],
      "metadata": {
        "id": "amtV-GLWpCC7"
      }
    },
    {
      "cell_type": "markdown",
      "source": [
        "## English-Spanish Dictionary\n",
        "You are creating a basic English-Spanish dictionary that allows users to look up English words and find their Spanish translations.\n",
        "\n",
        "\n",
        "### Tasks\n",
        "* Create a dictionary where English words are keys and their Spanish translations are values.\n",
        "* Ask the user to input an English word.\n",
        "* Check if the word exists in the dictionary.\n",
        "* If the word exists, print its Spanish translation.\n",
        "* If the word does not exist, inform the user that the translation is not available.\n",
        "* Implement a loop that allows the user to keep looking up words until they choose to exit.\n"
      ],
      "metadata": {
        "id": "M2Zg-XsUpC72"
      }
    },
    {
      "cell_type": "code",
      "source": [
        "#code here\n",
        "def translate_word(word):\n",
        "    if word in english_spanish_dict:\n",
        "        return english_spanish_dict[word]\n",
        "    else:\n",
        "        return \"Translation not available.\"\n",
        "\n",
        "english_spanish_dict = {\n",
        "    \"hello\": \"hola\",\n",
        "    \"bye\": \"adiós\",\n",
        "    \"cat\": \"gato\",\n",
        "    \"dog\": \"perro\",\n",
        "    \"house\": \"casa\",\n",
        "    \"good\":\"ueno\"\n",
        "}\n",
        "\n",
        "while True:\n",
        "    word = input(\"Enter an English word (or type 'exit' to quit): \").lower()\n",
        "    if word == \"exit\":\n",
        "        print(\"Bye!\")\n",
        "        break\n",
        "    translation = translate_word(word)\n",
        "    print(\"Word in Spanish:\", translation)\n"
      ],
      "metadata": {
        "id": "7RKtYbMZpJdh",
        "colab": {
          "base_uri": "https://localhost:8080/"
        },
        "outputId": "0605c819-d517-4396-fbc7-e0fe88a4b469"
      },
      "execution_count": null,
      "outputs": [
        {
          "output_type": "stream",
          "name": "stdout",
          "text": [
            "Enter an English word (or type 'exit' to quit): hello\n",
            "Word in Spanish: hola\n",
            "Enter an English word (or type 'exit' to quit): cat\n",
            "Word in Spanish: gato\n",
            "Enter an English word (or type 'exit' to quit): house\n",
            "Word in Spanish: casa\n",
            "Enter an English word (or type 'exit' to quit): exit\n",
            "Bye!\n"
          ]
        }
      ]
    },
    {
      "cell_type": "markdown",
      "source": [
        "# Lab Task 04"
      ],
      "metadata": {
        "id": "h_8wOMWitspv"
      }
    },
    {
      "cell_type": "markdown",
      "source": [
        "dataset link : https://raw.githubusercontent.com/TirendazAcademy/PANDAS-TUTORIAL/main/DataSets/vgsalesGlobale.csv\n",
        "#Exercise\n",
        "Use the dataset of Game, we have explored earlier and perform following operations.\n",
        "\n",
        "* Calculate the total global sales for all games in the dataset.\n",
        "* Find the game with the highest global sales.\n",
        "* Determine the average sales for each region (NA_Sales, EU_Sales, JP_Sales, Other_Sales).\n",
        "* Find the top 5 most popular game genres based on global sales.\n",
        "* Calculate the total sales for each genre in each region and find the most popular genre in North America (NA_Sales).\n",
        "* Display last 10 rows.\n",
        "* Determine the top 3 gaming platforms with the highest global sales.\n",
        "* Calculate the market share (percentage of global sales) for each genre.\n",
        "* Calculate the correlation coefficient between NA_Sales and EU_Sales. (.corr function)"
      ],
      "metadata": {
        "id": "Qq4VH1Jkts32"
      }
    },
    {
      "cell_type": "code",
      "source": [
        "#code here\n",
        "import pandas as pd\n",
        "df = pd.read_csv(\"https://raw.githubusercontent.com/TirendazAcademy/PANDAS-TUTORIAL/main/DataSets/vgsalesGlobale.csv\")\n",
        "\n",
        "total_global_sales = df['Global_Sales'].sum()\n",
        "print(\"Total Global Sales:\", total_global_sales)\n",
        "\n",
        "print(\"Game with the Highest Global Sales:\")\n",
        "print(df.loc[df['Global_Sales'].idxmax()])\n",
        "\n",
        "print(\"Average Sales for Each Region:\")\n",
        "print(df[['NA_Sales', 'EU_Sales', 'JP_Sales', 'Other_Sales']].mean())\n",
        "\n",
        "print(\"Top 5 Most Popular Game Genres based on Global Sales:\")\n",
        "print(df.groupby('Genre')['Global_Sales'].sum().nlargest(5))\n",
        "\n",
        "genre_sales_by_region = df.groupby('Genre')[['NA_Sales', 'EU_Sales', 'JP_Sales', 'Other_Sales']].sum()\n",
        "print(\"Most Popular Genre in North America:\", genre_sales_by_region['NA_Sales'].idxmax())\n",
        "\n",
        "print(\"Top 3 Gaming Platforms with the Highest Global Sales:\")\n",
        "print(df.groupby('Platform')['Global_Sales'].sum().nlargest(3))\n",
        "\n",
        "total_global_sales_per_genre = df.groupby('Genre')['Global_Sales'].sum()\n",
        "market_share_per_genre = (total_global_sales_per_genre / total_global_sales) * 100\n",
        "print(\"Market Share Percentage for Each Genre:\")\n",
        "print(market_share_per_genre)\n",
        "\n",
        "print(\"Correlation Coefficient between NA Sales and EU Sales:\", df['NA_Sales'].corr(df['EU_Sales']))\n",
        "\n",
        "print(\"Last 10 Rows:\")\n",
        "print(df.tail(10))"
      ],
      "metadata": {
        "colab": {
          "base_uri": "https://localhost:8080/"
        },
        "id": "QEV02ogxdVqL",
        "outputId": "f24f61bf-fc29-4b27-a8a3-324d5d7380f1"
      },
      "execution_count": null,
      "outputs": [
        {
          "output_type": "stream",
          "name": "stdout",
          "text": [
            "Total Global Sales: 8920.44\n",
            "Game with the Highest Global Sales:\n",
            "Rank                     1\n",
            "Name            Wii Sports\n",
            "Platform               Wii\n",
            "Year                2006.0\n",
            "Genre               Sports\n",
            "Publisher         Nintendo\n",
            "NA_Sales             41.49\n",
            "EU_Sales             29.02\n",
            "JP_Sales              3.77\n",
            "Other_Sales           8.46\n",
            "Global_Sales         82.74\n",
            "Name: 0, dtype: object\n",
            "Average Sales for Each Region:\n",
            "NA_Sales       0.264667\n",
            "EU_Sales       0.146652\n",
            "JP_Sales       0.077782\n",
            "Other_Sales    0.048063\n",
            "dtype: float64\n",
            "Top 5 Most Popular Game Genres based on Global Sales:\n",
            "Genre\n",
            "Action          1751.18\n",
            "Sports          1330.93\n",
            "Shooter         1037.37\n",
            "Role-Playing     927.37\n",
            "Platform         831.37\n",
            "Name: Global_Sales, dtype: float64\n",
            "Most Popular Genre in North America: Action\n",
            "Top 3 Gaming Platforms with the Highest Global Sales:\n",
            "Platform\n",
            "PS2     1255.64\n",
            "X360     979.96\n",
            "PS3      957.84\n",
            "Name: Global_Sales, dtype: float64\n",
            "Market Share Percentage for Each Genre:\n",
            "Genre\n",
            "Action          19.631094\n",
            "Adventure        2.679688\n",
            "Fighting         5.032375\n",
            "Misc             9.079821\n",
            "Platform         9.319832\n",
            "Puzzle           2.745941\n",
            "Racing           8.206322\n",
            "Role-Playing    10.396012\n",
            "Shooter         11.629135\n",
            "Simulation       4.396644\n",
            "Sports          14.920004\n",
            "Strategy         1.963132\n",
            "Name: Global_Sales, dtype: float64\n",
            "Correlation Coefficient between NA Sales and EU Sales: 0.7677267483702631\n",
            "Last 10 Rows:\n",
            "        Rank                                               Name Platform  \\\n",
            "16588  16591                                   Mega Brain Boost       DS   \n",
            "16589  16592  Chou Ezaru wa Akai Hana: Koi wa Tsuki ni Shiru...      PSV   \n",
            "16590  16593  Eiyuu Densetsu: Sora no Kiseki Material Collec...      PSP   \n",
            "16591  16594                                Myst IV: Revelation       PC   \n",
            "16592  16595                                           Plushees       DS   \n",
            "16593  16596                 Woody Woodpecker in Crazy Castle 5      GBA   \n",
            "16594  16597                      Men in Black II: Alien Escape       GC   \n",
            "16595  16598   SCORE International Baja 1000: The Official Game      PS2   \n",
            "16596  16599                                         Know How 2       DS   \n",
            "16597  16600                                   Spirits & Spells      GBA   \n",
            "\n",
            "         Year         Genre              Publisher  NA_Sales  EU_Sales  \\\n",
            "16588  2008.0        Puzzle  Majesco Entertainment      0.01      0.00   \n",
            "16589  2016.0        Action        dramatic create      0.00      0.00   \n",
            "16590  2007.0  Role-Playing     Falcom Corporation      0.00      0.00   \n",
            "16591  2004.0     Adventure                Ubisoft      0.01      0.00   \n",
            "16592  2008.0    Simulation              Destineer      0.01      0.00   \n",
            "16593  2002.0      Platform                  Kemco      0.01      0.00   \n",
            "16594  2003.0       Shooter             Infogrames      0.01      0.00   \n",
            "16595  2008.0        Racing             Activision      0.00      0.00   \n",
            "16596  2010.0        Puzzle               7G//AMES      0.00      0.01   \n",
            "16597  2003.0      Platform                Wanadoo      0.01      0.00   \n",
            "\n",
            "       JP_Sales  Other_Sales  Global_Sales  \n",
            "16588      0.00          0.0          0.01  \n",
            "16589      0.01          0.0          0.01  \n",
            "16590      0.01          0.0          0.01  \n",
            "16591      0.00          0.0          0.01  \n",
            "16592      0.00          0.0          0.01  \n",
            "16593      0.00          0.0          0.01  \n",
            "16594      0.00          0.0          0.01  \n",
            "16595      0.00          0.0          0.01  \n",
            "16596      0.00          0.0          0.01  \n",
            "16597      0.00          0.0          0.01  \n"
          ]
        }
      ]
    }
  ]
}